{
 "cells": [
  {
   "cell_type": "markdown",
   "metadata": {
    "id": "YeOCuSdrp9vo"
   },
   "source": [
    "# Semantic Segmentation Exercises\n",
    "\n",
    "Based on exercise from DLCV 2019 by ASM Shihavuddin and Ricardo Cruz"
   ]
  },
  {
   "cell_type": "markdown",
   "metadata": {
    "id": "Wd4Q5KHGp9vq"
   },
   "source": [
    "The data used for this exercise stems from the ISBI cell tracking challenge http://celltrackingchallenge.net/. The data loader below assumes that you are working on the HPC machines with the data located at  \n",
    "\n",
    "/dtu/datasets1/02516/phc_data\n",
    "\n",
    "If this is not the case, you will have to adapt the data loader accordingly.\n",
    "\n",
    "These are microscopy images taken over time of different cells that move around in the image plane; the images you will be working with have been processed to contain only a single cell each."
   ]
  },
  {
   "cell_type": "markdown",
   "metadata": {
    "id": "YcbY5OVEp9v1"
   },
   "source": [
    "Have a look at the phc_data folder. It is structured like this:\n",
    "\n",
    "    images/\n",
    "        img_00000.jpg\n",
    "        img_00001.jpg\n",
    "            ...\n",
    "    labels\n",
    "        label_00000.png\n",
    "        label_00001.png \n",
    "            ...\n",
    "            \n",
    "We provide you with a class similar to the Hotdog_NotHotdog data loader that will allow you to load the dataset from  /dtu/datasets1/02514/\n",
    "\n",
    "First, we load some needed libraries"
   ]
  },
  {
   "cell_type": "code",
   "execution_count": 1,
   "metadata": {},
   "outputs": [],
   "source": [
    "import os\n",
    "import numpy as np\n",
    "import glob\n",
    "import PIL.Image as Image\n",
    "\n",
    "# pip install torchsummary\n",
    "import torch\n",
    "import torch.nn as nn\n",
    "import torch.nn.functional as F\n",
    "import torchvision.datasets as datasets\n",
    "from torch.utils.data import DataLoader\n",
    "import torchvision.transforms as transforms\n",
    "from torchvision import models\n",
    "from torchsummary import summary\n",
    "import torch.optim as optim\n",
    "from time import time\n",
    "\n",
    "import matplotlib.pyplot as plt\n",
    "from IPython.display import clear_output"
   ]
  },
  {
   "cell_type": "markdown",
   "metadata": {},
   "source": [
    "Next, the data loader"
   ]
  },
  {
   "cell_type": "code",
   "execution_count": null,
   "metadata": {},
   "outputs": [],
   "source": [
    "data_path = '/dtu/datasets1/02516/phc_data'\n",
    "#data_path = './phc_data'\n",
    "class PhC(torch.utils.data.Dataset):\n",
    "    def __init__(self, train, transform, data_path=data_path):\n",
    "        'Initialization'\n",
    "        self.transform = transform\n",
    "        data_path = os.path.join(data_path, 'train' if train else 'test')\n",
    "        self.image_paths = sorted(glob.glob(data_path + '/images/*.jpg'))\n",
    "        self.label_paths = sorted(glob.glob(data_path + '/labels/*.png'))\n",
    "\n",
    "    def __len__(self):\n",
    "        'Returns the total number of samples'\n",
    "        return len(self.image_paths)\n",
    "\n",
    "    def __getitem__(self, idx):\n",
    "        'Generates one sample of data'\n",
    "        image_path = self.image_paths[idx]\n",
    "        label_path = self.label_paths[idx]\n",
    "\n",
    "        image = Image.open(image_path)\n",
    "        label = Image.open(label_path)\n",
    "        Y = self.transform(label)\n",
    "        X = self.transform(image)\n",
    "        return X, Y"
   ]
  },
  {
   "cell_type": "markdown",
   "metadata": {
    "id": "dLV0yo5rp9v8"
   },
   "source": [
    "In principle, the images could have different sizes. Let's resize them all to $128\\times128$ pixels, using the torchvision Resize. "
   ]
  },
  {
   "cell_type": "code",
   "execution_count": null,
   "metadata": {
    "id": "Bk5FpvA6p9v8"
   },
   "outputs": [],
   "source": [
    "size = 128\n",
    "train_transform = transforms.Compose([transforms.Resize((size, size)),\n",
    "                                    transforms.ToTensor()])\n",
    "test_transform = transforms.Compose([transforms.Resize((size, size)),\n",
    "                                    transforms.ToTensor()])\n",
    "\n",
    "batch_size = 6\n",
    "trainset = PhC(train=True, transform=train_transform)\n",
    "train_loader = DataLoader(trainset, batch_size=batch_size, shuffle=True, num_workers=3)\n",
    "testset = PhC(train=False, transform=test_transform)\n",
    "test_loader = DataLoader(testset, batch_size=batch_size, shuffle=False, num_workers=3)"
   ]
  },
  {
   "cell_type": "code",
   "execution_count": null,
   "metadata": {},
   "outputs": [],
   "source": [
    "print('Loaded %d training images' % len(trainset))\n",
    "print('Loaded %d test images' % len(testset))"
   ]
  },
  {
   "cell_type": "markdown",
   "metadata": {},
   "source": [
    "Let's look at some images from the dataset!"
   ]
  },
  {
   "cell_type": "code",
   "execution_count": null,
   "metadata": {},
   "outputs": [],
   "source": [
    "plt.rcParams['figure.figsize'] = [18, 6]\n",
    "\n",
    "images, labels = next(iter(train_loader))\n",
    "\n",
    "for i in range(6):\n",
    "    plt.subplot(2, 6, i+1)\n",
    "    plt.imshow(np.swapaxes(np.swapaxes(images[i], 0, 2), 0, 1))\n",
    "\n",
    "    plt.subplot(2, 6, i+7)\n",
    "    plt.imshow(labels[i].squeeze())\n",
    "plt.show()"
   ]
  },
  {
   "cell_type": "markdown",
   "metadata": {
    "id": "PrYOvoGAp9wZ"
   },
   "source": [
    "## Device\n",
    "\n",
    "Check if GPU is available."
   ]
  },
  {
   "cell_type": "code",
   "execution_count": 2,
   "metadata": {
    "colab": {
     "base_uri": "https://localhost:8080/"
    },
    "id": "OayoZK-kp9wZ",
    "outputId": "d91f528f-4af0-473d-ae34-33698a44546f"
   },
   "outputs": [
    {
     "name": "stdout",
     "output_type": "stream",
     "text": [
      "cpu\n"
     ]
    }
   ],
   "source": [
    "device = torch.device('cuda' if torch.cuda.is_available() else 'cpu')\n",
    "print(device)"
   ]
  },
  {
   "cell_type": "markdown",
   "metadata": {
    "id": "uOsk72pqp9wc"
   },
   "source": [
    "First, we consider a simple encoder decoder network for image registration"
   ]
  },
  {
   "cell_type": "code",
   "execution_count": null,
   "metadata": {
    "id": "rUxyjNaQp9wh"
   },
   "outputs": [],
   "source": [
    "class EncDec(nn.Module):\n",
    "    def __init__(self):\n",
    "        super().__init__()\n",
    "\n",
    "        # encoder (downsampling)\n",
    "        self.enc_conv0 = nn.Conv2d(3, 64, 3, padding=1)\n",
    "        self.pool0 = nn.MaxPool2d(2, 2)  # 128 -> 64\n",
    "        self.enc_conv1 = nn.Conv2d(64, 64, 3, padding=1)\n",
    "        self.pool1 = nn.MaxPool2d(2, 2)  # 64 -> 32\n",
    "        self.enc_conv2 = nn.Conv2d(64, 64, 3, padding=1)\n",
    "        self.pool2 = nn.MaxPool2d(2, 2)  # 32 -> 16\n",
    "        self.enc_conv3 = nn.Conv2d(64, 64, 3, padding=1)\n",
    "        self.pool3 = nn.MaxPool2d(2, 2)  # 16 -> 8\n",
    "\n",
    "        # bottleneck\n",
    "        self.bottleneck_conv = nn.Conv2d(64, 64, 3, padding=1)\n",
    "\n",
    "        # decoder (upsampling)\n",
    "        self.upsample0 = nn.Upsample(16)  # 8 -> 16\n",
    "        self.dec_conv0 = nn.Conv2d(64, 64, 3, padding=1)\n",
    "        self.upsample1 = nn.Upsample(32)  # 16 -> 32\n",
    "        self.dec_conv1 = nn.Conv2d(64, 64, 3, padding=1)\n",
    "        self.upsample2 = nn.Upsample(64)  # 32 -> 64\n",
    "        self.dec_conv2 = nn.Conv2d(64, 64, 3, padding=1)\n",
    "        self.upsample3 = nn.Upsample(128)  # 64 -> 128\n",
    "        self.dec_conv3 = nn.Conv2d(64, 1, 3, padding=1)\n",
    "\n",
    "    def forward(self, x):\n",
    "        # encoder\n",
    "        e0 = self.pool0(F.relu(self.enc_conv0(x)))\n",
    "        e1 = self.pool1(F.relu(self.enc_conv1(e0)))\n",
    "        e2 = self.pool2(F.relu(self.enc_conv2(e1)))\n",
    "        e3 = self.pool3(F.relu(self.enc_conv3(e2)))\n",
    "\n",
    "        # bottleneck\n",
    "        b = F.relu(self.bottleneck_conv(e3))\n",
    "\n",
    "        # decoder\n",
    "        d0 = F.relu(self.dec_conv0(self.upsample0(b)))\n",
    "        d1 = F.relu(self.dec_conv1(self.upsample1(d0)))\n",
    "        d2 = F.relu(self.dec_conv2(self.upsample2(d1)))\n",
    "        d3 = self.dec_conv3(self.upsample3(d2))  # no activation\n",
    "        return d3"
   ]
  },
  {
   "cell_type": "markdown",
   "metadata": {
    "id": "KYD53XbZp9wl"
   },
   "source": [
    "## Loss\n",
    "\n",
    "Now, as important as building the architecture is defining **the optimizer** and **the loss function.**\n",
    "\n",
    "The **loss function** is what we are trying to minimize. Many can be used. A popular one for binary segmentation is *binary cross-entropy* which is given by\n",
    "\n",
    "$$\\mathcal L_{BCE}(y, \\hat y) = -\\sum_i \\left[y_i\\log\\sigma(\\hat y_i) + (1-y_i)\\log(1-\\sigma(\\hat y_i))\\right].$$\n",
    "\n",
    "where $y$ is the desired output and $\\hat y$ is the output of the model. $\\sigma$ is the [*logistic* function](https://en.wikipedia.org/wiki/Sigmoid_function) (also called *sigmoid*), which converts a real number $\\mathbb R$ into a probability $[0,1]$.\n",
    "\n",
    "However, this loss suffers from numerical stability problems. Most importantly, $\\lim_{x\\rightarrow0}\\log(x)=\\infty$ which leads to optimization unstability. This loss [can be simplified](https://www.tensorflow.org/api_docs/python/tf/nn/sigmoid_cross_entropy_with_logits) into the following loss, which is equivalent and is not as prone to numerical unstability:\n",
    "\n",
    "$$\\mathcal L_{BCE} = \\hat y - y\\hat y + \\log\\left(1+\\exp(-\\hat y)\\right).$$"
   ]
  },
  {
   "cell_type": "code",
   "execution_count": null,
   "metadata": {
    "id": "iV8BSlXDp9wm"
   },
   "outputs": [],
   "source": [
    "def bce_loss(y_real, y_pred):\n",
    "    return torch.mean(y_pred - y_real*y_pred + torch.log(1 + torch.exp(-y_pred)))"
   ]
  },
  {
   "cell_type": "markdown",
   "metadata": {
    "id": "dbNsSbgpp9wp"
   },
   "source": [
    "Can you still see situations in which this loss might be unstable? How would you change it?\n",
    "\n",
    "> In our implementation, we calculate the $\\exp(-\\hat y)$ directly. It might lead to the numerical overflow and underflow when $\\hat y$ is a large negative or positive number. So we should calculate $\\log(1+\\exp(-\\hat y)$ without a intermediate calculation of $\\exp(-\\hat y)$. In this case, we can use `torch.nn.functional.softplus`."
   ]
  },
  {
   "cell_type": "code",
   "execution_count": 3,
   "metadata": {},
   "outputs": [],
   "source": [
    "def bce_loss(y_real, y_pred):\n",
    "    return torch.mean(y_pred - y_real*y_pred + torch.nn.functional.softplus(-y_pred))"
   ]
  },
  {
   "cell_type": "markdown",
   "metadata": {
    "id": "1FdlV_Rfp9wp"
   },
   "source": [
    "## Training\n",
    "\n",
    "We will define the training cycle in a function so we can re-use it."
   ]
  },
  {
   "cell_type": "code",
   "execution_count": null,
   "metadata": {
    "id": "pCBawsT2p9wq"
   },
   "outputs": [],
   "source": [
    "def train(model, opt, loss_fn, epochs, train_loader, test_loader):\n",
    "    X_test, Y_test = next(iter(test_loader))\n",
    "\n",
    "    for epoch in range(epochs):\n",
    "        tic = time()\n",
    "        print('* Epoch %d/%d' % (epoch+1, epochs))\n",
    "\n",
    "        avg_loss = 0\n",
    "        model.train()  # train mode\n",
    "        for X_batch, Y_batch in train_loader:\n",
    "            X_batch = X_batch.to(device)\n",
    "            Y_batch = Y_batch.to(device)\n",
    "\n",
    "            # set parameter gradients to zero\n",
    "            opt.zero_grad()\n",
    "\n",
    "            # forward\n",
    "            Y_pred = model(X_batch)\n",
    "            loss = loss_fn(Y_batch, Y_pred)  # forward-pass\n",
    "            loss.backward()  # backward-pass\n",
    "            opt.step()  # update weights\n",
    "\n",
    "            # calculate metrics to show the user\n",
    "            avg_loss += loss / len(train_loader)\n",
    "        toc = time()\n",
    "        print(' - loss: %f' % avg_loss)\n",
    "\n",
    "        # show intermediate results\n",
    "        model.eval()  # testing mode\n",
    "        Y_hat = F.sigmoid(model(X_test.to(device))).detach().cpu()\n",
    "        clear_output(wait=True)\n",
    "        for k in range(6):\n",
    "            plt.subplot(2, 6, k+1)\n",
    "            plt.imshow(np.rollaxis(X_test[k].numpy(), 0, 3), cmap='gray')\n",
    "            plt.title('Real')\n",
    "            plt.axis('off')\n",
    "\n",
    "            plt.subplot(2, 6, k+7)\n",
    "            plt.imshow(Y_hat[k, 0], cmap='gray')\n",
    "            plt.title('Output')\n",
    "            plt.axis('off')\n",
    "        plt.suptitle('%d / %d - loss: %f' % (epoch+1, epochs, avg_loss))\n",
    "        plt.show()"
   ]
  },
  {
   "cell_type": "markdown",
   "metadata": {
    "id": "3lDY3LRTp9wu"
   },
   "source": [
    "## Predict\n",
    "\n",
    "After the model is trained, you can use this function to predict segmentations for new data:"
   ]
  },
  {
   "cell_type": "code",
   "execution_count": null,
   "metadata": {
    "id": "sFdzxzFVp9wu"
   },
   "outputs": [],
   "source": [
    "def predict(model, data):\n",
    "    model.eval()  # testing mode\n",
    "    Y_pred = [F.sigmoid(model(X_batch.to(device))) for X_batch, _ in data]\n",
    "    return np.array(Y_pred)"
   ]
  },
  {
   "cell_type": "markdown",
   "metadata": {
    "id": "mG-P-K0Vp9wx"
   },
   "source": [
    "## Lights. Camera. Action.\n",
    "\n",
    "Let us instanciate the model and train it."
   ]
  },
  {
   "cell_type": "code",
   "execution_count": null,
   "metadata": {
    "colab": {
     "base_uri": "https://localhost:8080/"
    },
    "id": "r8B8XQzMp9wy",
    "outputId": "0f3c8e35-e3c5-4674-d14e-3df5c5cc2937"
   },
   "outputs": [],
   "source": [
    "model = EncDec().to(device)\n",
    "summary(model, (3, 256, 256))"
   ]
  },
  {
   "cell_type": "code",
   "execution_count": null,
   "metadata": {
    "colab": {
     "base_uri": "https://localhost:8080/"
    },
    "id": "GbR-v7jJp9w0",
    "outputId": "27873839-967b-43ca-ba81-6267656a0efa"
   },
   "outputs": [],
   "source": [
    "train(model, optim.Adam(model.parameters()), bce_loss, 20, train_loader, test_loader)"
   ]
  },
  {
   "cell_type": "markdown",
   "metadata": {
    "id": "QL4NDl_Hp9w3"
   },
   "source": [
    "-----------------------------------------------------------------------------------------\n",
    "\n",
    "# Other losses"
   ]
  },
  {
   "cell_type": "markdown",
   "metadata": {
    "id": "soWquSpPp9w4"
   },
   "source": [
    "<div style=\"border-left: solid 6px #d6d6d6; padding: 10px; background-color: #eaeaea\">\n",
    "<b><i>Exercise:</i></b> Implement the following losses:\n",
    "<ol>\n",
    "    <li>Probabilistic Dice coefficient</li>\n",
    "    <li>Focal loss</li>\n",
    "</ol>\n",
    "</div>"
   ]
  },
  {
   "cell_type": "markdown",
   "metadata": {
    "id": "0mc2hnlXp9w4"
   },
   "source": [
    "**1. Dice coefficient:** Given two masks $X$ and $Y$, a common metric to measure the distance between these two masks is given by:\n",
    "\n",
    "$$D(X,Y)=\\frac{2|X\\cap Y|}{|X|+|Y|}$$\n",
    "\n",
    "This function is not differentiable and the loss function <b>must</b> always be differentiable for gradient descent to work. But we can approximate it using:\n",
    "\n",
    "$$\\mathcal L_D(X,Y) = 1-\\frac{mean(2X\\cdot Y + 1)}{mean(X+Y) + 1},$$\n",
    "where $X\\cdot Y$ is element-wise product of your image of pixel-wise confidences\n",
    "\n",
    "Implement this loss:"
   ]
  },
  {
   "cell_type": "code",
   "execution_count": null,
   "metadata": {
    "id": "kjKjdtdwp9w5"
   },
   "outputs": [],
   "source": [
    "def dice_loss(y_real, y_pred):\n",
    "    return 1 - torch.mean(2*y_pred*y_real + 1) / (torch.mean(y_pred+y_real) + 1)\n"
   ]
  },
  {
   "cell_type": "markdown",
   "metadata": {
    "id": "c0LWXP1Fp9w9"
   },
   "source": [
    "Run it:"
   ]
  },
  {
   "cell_type": "code",
   "execution_count": null,
   "metadata": {
    "colab": {
     "base_uri": "https://localhost:8080/",
     "height": 340
    },
    "id": "obAqQdICp9w9",
    "outputId": "ce35cb3e-3a95-4a26-9902-d669106aca1e"
   },
   "outputs": [],
   "source": [
    "model = EncDec().to(device)\n",
    "train(model, optim.Adam(model.parameters(), 0.0001), dice_loss, 20, train_loader, test_loader)"
   ]
  },
  {
   "cell_type": "markdown",
   "metadata": {
    "id": "ao7OA4AGp9w_"
   },
   "source": [
    "**2. Focal loss:** First, remember how binary crossentropy looks like:\n",
    "\n",
    "$$\\mathcal L_{BCE}(y, \\hat y) = -\\sum_i \\left[y_i\\log\\sigma(\\hat y_i) + (1-y_i)\\log(1-\\sigma(\\hat y_i))\\right].$$\n",
    "\n",
    "The problem with this loss is that it tends to benefit the **majority** class (usually the background) relative to the **minority** class (usually the foreground). Therefore, usually people apply weights to each class:\n",
    "\n",
    "$$\\mathcal L_{wBCE}(y, \\hat y) = -\\sum_i \\alpha_i\\left[y_i\\log\\sigma(\\hat y_i) + (1-y_i)\\log(1-\\sigma(\\hat y_i))\\right].$$\n",
    "\n",
    "Traditionally, the weight $\\alpha_i$ is defined as the inverse frequency of the class of that pixel $i$, so that observations of the minority class weight more relative to the majority class.\n",
    "\n",
    "Another recent addition has been the **focal loss** which weights each pixel by the confidence we have in the prediction of that pixel.\n",
    "\n",
    "$$\\mathcal L_{focal}(y, \\hat y) = -\\sum_i \\left[\\left(1-\\sigma(\\hat y_i)\\right)^\\gamma y_i\\log\\sigma(\\hat y_i) + (1-y_i)\\log(1-\\sigma(\\hat y_i))\\right].$$\n",
    "\n",
    "A good value for $\\gamma$ is generally 2.\n",
    "\n",
    "* Lin, Tsung-Yi, et al. \"[Focal loss for dense object detection.](https://arxiv.org/pdf/1708.02002.pdf)\" Proceedings of the IEEE international conference on computer vision. 2017.\n",
    "\n",
    "------------------------------------------------------------------------------------------------------\n",
    "\n",
    "Implement focal loss:"
   ]
  },
  {
   "cell_type": "code",
   "execution_count": null,
   "metadata": {
    "id": "IurT5Mhhp9xA"
   },
   "outputs": [],
   "source": [
    "def focal_loss(y_real, y_pred):\n",
    "    return ..."
   ]
  },
  {
   "cell_type": "code",
   "execution_count": null,
   "metadata": {
    "id": "mGXC_Rstp9xD"
   },
   "outputs": [],
   "source": [
    "model = EncDec().to(device)\n",
    "train(model, optim.Adam(model.parameters(), 0.0001), focal_loss, 20, train_loader, test_loader)"
   ]
  },
  {
   "cell_type": "markdown",
   "metadata": {
    "id": "9fmFAVqLp9xG"
   },
   "source": [
    "----------------------------------------------------------------------------------------------\n",
    "\n",
    "## Regularization\n",
    "\n",
    "The more of our prior knowledge we can feed the neural network, the better. One way to introduce such background knowledge is by regularization. Regularization are extra terms added to the loss function.\n",
    "\n",
    "**Centered:** if you know the segmentation is always centered, you can punish it if it is not.\n",
    "\n",
    "$$\\mathcal L_{centered}(y,\\hat y) = 1-\\sigma(\\hat y_{w/2,h/2})$$\n",
    "\n",
    "**Sparsity:** if there is a lot of sparcity (small patches of segmentation), you can add an L1 term:\n",
    "\n",
    "$$\\mathcal L_{sparcity} = \\sigma(\\hat y)$$\n",
    "\n",
    "**Contiguity:** to avoid many zig-zags in the semantic frontier, [total variation](https://en.wikipedia.org/wiki/Total_variation_denoising) can be used:\n",
    "\n",
    "$$\\mathcal L_{contiguity} = \\sum_{i,j}|\\sigma(\\hat y_{i+1,j})-\\sigma(\\hat y_{i,j})|+\\sum_{i,j}|\\sigma(\\hat y_{i,j+1})-\\sigma(\\hat y_{i,j})|$$\n",
    "\n",
    "* Ferreira, P. M., Marques, F., Cardoso, J. S., & Rebelo, A. (2018). \"[Physiological Inspired Deep Neural Networks for Emotion Recognition](https://ieeexplore.ieee.org/stamp/stamp.jsp?arnumber=8472816&tag=1)\". IEEE Access, 6, 53930-53943."
   ]
  },
  {
   "cell_type": "markdown",
   "metadata": {
    "id": "LNZgohhPp9xG"
   },
   "source": [
    "<div style=\"border-left: solid 6px #d6d6d6; padding: 10px; background-color: #eaeaea\">\n",
    "<b><i>Exercise:</i></b> Add the total variation term to the loss.</div>"
   ]
  },
  {
   "cell_type": "code",
   "execution_count": null,
   "metadata": {
    "id": "F2G_Q_13p9xI"
   },
   "outputs": [],
   "source": [
    "def bce_total_variation(y_real, y_pred):\n",
    "    return bce_loss(y_real, y_pred) + 0.1*..."
   ]
  },
  {
   "cell_type": "code",
   "execution_count": null,
   "metadata": {
    "id": "KFD_O7-qp9xL"
   },
   "outputs": [],
   "source": [
    "model = EncDec().to(device)\n",
    "train(model, optim.Adam(model.parameters()), bce_total_variation, 20, train_loader, test_loader)"
   ]
  },
  {
   "cell_type": "markdown",
   "metadata": {
    "id": "Z8rggm3Rp9xO"
   },
   "source": [
    "-----------------------------------------------------------------------------------------\n",
    "\n",
    "# U-Net\n",
    "\n",
    "A [**U-Net**](https://arxiv.org/abs/1505.04597) is a neural network architecture that receives an image and outputs an image. It was originally conceived for semantic segmentation (as we will use it), but it is so successfully that it has since been used in other contexts. Given a medical image, it outputs a grayscale image representing the probability of each pixel being the region of interest.\n",
    "\n",
    "<img src=\"data:image/png;base64,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\">"
   ]
  },
  {
   "cell_type": "markdown",
   "metadata": {
    "id": "wc0cNjvYp9xO"
   },
   "source": [
    "Like the encoder-decoder network, this architecture is composed by two parts: Half of the network applies convolutions and pooling layers to successively reduce the input image (*encoder*). The other half successively increases the size of the image (*decoder*). In the end, we have an output image with the same size as the input image, but the number of channels might be different (e.g. the output might be grayscale and the input can be RGB).\n",
    "\n",
    "Unlike the encoder-decoder network, U-Net adds skip-connections:\n",
    "\n",
    "<img src=\"data:image/png;base64,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\">\n",
    "\n",
    "Notice that the activation map along the encoder decoder network are symmetric. That is, the size of the activation map in the 1st layer is equal to the size of the last layer, the size of the 2nd layer's activations is equal to the penultimate activations, etc. The authors took advantage of this fact to introduce skip-connections to further improve the performance of the networks. What these skip-connections do is to connect each layer not only to the previous layer, but also to its twin layer. This allows gradients to travel more freely (avoiding things like vanishing gradients) and also helps avoid checkboard artifacts which sometimes plagues this type of networks.\n",
    "\n",
    "This can be done during `fpass` by concatenating (`torch.cat`) the encoding output to the respective decoding input. For example, `torch.cat([d0, e2], 1)`.\n",
    "\n",
    "* Ronneberger, Olaf, Philipp Fischer, and Thomas Brox. \"[U-Net: Convolutional networks for biomedical image segmentation.](https://arxiv.org/pdf/1505.04597.pdf)\" International Conference on Medical image computing and computer-assisted intervention. Springer, Cham, 2015."
   ]
  },
  {
   "cell_type": "markdown",
   "metadata": {
    "id": "v7UgGvKGp9xP"
   },
   "source": [
    "<div style=\"border-left: solid 6px #d6d6d6; padding: 10px; background-color: #eaeaea\">\n",
    "    <b><i>Exercise:</i></b> Copy the <tt>EncDec</tt> model and rename it to <tt>UNet</tt>. Then introduce the skip connections using <tt>torch.concat</tt> in the <tt>forward()</tt> function. In the end, you will also need to adjust the input size of each convolution in the constructor.\n",
    "</div>"
   ]
  },
  {
   "cell_type": "code",
   "execution_count": null,
   "metadata": {
    "id": "0tD1iNbhp9xQ"
   },
   "outputs": [],
   "source": []
  },
  {
   "cell_type": "code",
   "execution_count": null,
   "metadata": {
    "id": "4ojcvY7Hp9xS"
   },
   "outputs": [],
   "source": [
    "model = UNet().to(device)\n",
    "summary(model, (3, 256, 256))"
   ]
  },
  {
   "cell_type": "markdown",
   "metadata": {
    "id": "uB0j2cYrp9xV"
   },
   "source": [
    "This summary is no longer useful to see the model, since the model is no longer sequential. Therefore, we will use the package `torchviz` to draw a diagram of the model you implemented:"
   ]
  },
  {
   "cell_type": "code",
   "execution_count": null,
   "metadata": {
    "id": "4h52MZwop9xW"
   },
   "outputs": [],
   "source": [
    "from torchviz import make_dot\n",
    "make_dot(model(torch.randn(20, 3, 256, 256).cuda()), params=dict(model.named_parameters()))"
   ]
  },
  {
   "cell_type": "code",
   "execution_count": null,
   "metadata": {
    "id": "FjlWxZXNp9xY"
   },
   "outputs": [],
   "source": [
    "torch.cuda.empty_cache()\n",
    "train(model, optim.Adam(model.parameters()), bce_loss, 20, train_loader, test_loader)"
   ]
  },
  {
   "cell_type": "markdown",
   "metadata": {
    "id": "HhMh53cqp9xa"
   },
   "source": [
    "---------------------------------------------------------------------------------------------------\n",
    "\n",
    "So far, we have been using **Max-Pooling** for the downsampling and **nearest-neighbor Upsampling** for the upsampling.\n",
    "\n",
    "Down-sampling:\n",
    "\n",
    "        conv = nn.Conv2d(3, 64, 3, padding=1)\n",
    "        pool = nn.MaxPool2d(3, 2, padding=1)\n",
    "\n",
    "Up-Sampling\n",
    "\n",
    "        upsample = nn.Upsample(32)\n",
    "        conv = nn.Conv2d(64, 64, 3, padding=1)\n",
    "\n",
    "As been discussed last week, downsample can also be done with stride=2, and upsample with stride=1/2. This generally works better than using max-pooling and upsample."
   ]
  },
  {
   "cell_type": "markdown",
   "metadata": {
    "id": "TFgckXrpp9xb"
   },
   "source": [
    "<div style=\"border-left: solid 6px #d6d6d6; padding: 10px; background-color: #eaeaea\">\n",
    "<b><i>Exercise:</i></b> Replace max-pooling by convolutions with stride=2, and replace upsampling by transpose-convolutions also with stride=2.\n",
    "</div>"
   ]
  },
  {
   "cell_type": "code",
   "execution_count": null,
   "metadata": {
    "id": "xhxy_q49p9xb"
   },
   "outputs": [],
   "source": [
    "class UNet2:\n",
    "    ....\n",
    "    ...."
   ]
  },
  {
   "cell_type": "code",
   "execution_count": null,
   "metadata": {
    "id": "UraT2z7Yp9xe"
   },
   "outputs": [],
   "source": [
    "model = UNet2().to(device)\n",
    "summary(model, (3, 256, 256))"
   ]
  },
  {
   "cell_type": "code",
   "execution_count": null,
   "metadata": {
    "id": "3j9WOhsyp9xg"
   },
   "outputs": [],
   "source": [
    "train(model, optim.Adam(model.parameters()), bce_loss, 20, train_loader, test_loader)"
   ]
  },
  {
   "cell_type": "markdown",
   "metadata": {
    "id": "9enQLiftp9xi"
   },
   "source": [
    "# Dilated convolutions\n",
    "\n",
    "We have been using encoder-decoder architectures, which are the most popular. But other architectures exist. For example, we could have used so-called **dilated convolutions** as an alternative to downsampling via pooling or striding\n",
    "\n",
    "<img src=\"data:image/png;base64,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\">\n",
    "\n",
    "In the first layer, we use dilation=1, the second layer uses dilation=2, and so on, until a good part of the receptive field is reached.\n",
    "\n",
    "* Yu, Fisher, and Vladlen Koltun. \"[Multi-scale context aggregation by dilated convolutions.](https://arxiv.org/pdf/1511.07122.pdf)\" arXiv preprint arXiv:1511.07122 (2015)."
   ]
  },
  {
   "cell_type": "markdown",
   "metadata": {
    "id": "iQXm1A9fp9xj"
   },
   "source": [
    "<div style=\"border-left: solid 6px #d6d6d6; padding: 10px; background-color: #eaeaea\">\n",
    "<b><i>Exercise:</i></b> Copy the encoder decoder network and implement a <tt>DilatedNet</tt> using dilated filters instead of down-sampling and up-sampling.\n",
    "</div>"
   ]
  },
  {
   "cell_type": "code",
   "execution_count": null,
   "metadata": {
    "id": "wDPs0QLep9xj"
   },
   "outputs": [],
   "source": [
    "class DilatedNet:\n",
    "    ....\n",
    "    ...."
   ]
  },
  {
   "cell_type": "code",
   "execution_count": null,
   "metadata": {
    "id": "6giplF6Zp9xm"
   },
   "outputs": [],
   "source": [
    "model = DilatedNet().to(device)\n",
    "summary(model, (3, 256, 256))"
   ]
  },
  {
   "cell_type": "code",
   "execution_count": null,
   "metadata": {
    "id": "sg5s1yWWp9xo"
   },
   "outputs": [],
   "source": [
    "train(model, optim.Adam(model.parameters()), bce_loss, 20, train_loader, test_loader)"
   ]
  },
  {
   "cell_type": "markdown",
   "metadata": {
    "id": "u_XPxVYXp9xq"
   },
   "source": [
    "---------------------------------------------------------------------------------------------------------\n",
    "\n",
    "# Multi-class Segmentation\n",
    "\n",
    "1. Use the [CMP-Facade dataset](http://cmp.felk.cvut.cz/~tylecr1/facade/) that you find at \n",
    "\n",
    "    /dtu/datasets1/02516/CMP_facade_DB_base\n",
    "\n",
    "2. Load the dataset. There are 12 classes, therefore, each segmentation will have the shape $12\\times H\\times W$. \n",
    "3. Copy over one of the previous models and adapt for multi-class segmentation. The most important change is the to *loss function.* Feel free to use [this pytorch loss](https://pytorch.org/docs/stable/generated/torch.nn.CrossEntropyLoss.html#torch.nn.CrossEntropyLoss) which implements softmax-crossentropy."
   ]
  },
  {
   "cell_type": "markdown",
   "metadata": {
    "id": "nI40EjRPp9xq"
   },
   "source": [
    "Load:"
   ]
  },
  {
   "cell_type": "code",
   "execution_count": null,
   "metadata": {
    "id": "XRcmvv9Ep9xq"
   },
   "outputs": [],
   "source": []
  },
  {
   "cell_type": "markdown",
   "metadata": {
    "id": "nZHhYVUFp9xt"
   },
   "source": [
    "Model:"
   ]
  },
  {
   "cell_type": "code",
   "execution_count": null,
   "metadata": {
    "id": "4phxMVdxp9xt"
   },
   "outputs": [],
   "source": []
  },
  {
   "cell_type": "markdown",
   "metadata": {
    "id": "LEj5ZFPhp9xv"
   },
   "source": [
    "Training:"
   ]
  },
  {
   "cell_type": "code",
   "execution_count": null,
   "metadata": {
    "id": "d3qm6kvbp9xw"
   },
   "outputs": [],
   "source": []
  },
  {
   "cell_type": "markdown",
   "metadata": {
    "id": "caEu6L43p9xy"
   },
   "source": [
    "-----------------------------------------------------------------------------------------\n",
    "\n",
    "# Further Thoughts\n",
    "\n",
    "1. Especially when there is little data, **transfer-learning** can also be used for segmentation. A popular approach is to replace the encoder part of the U-Net by the convolutional part of VGG-16.\n",
    "2. **Data augmentation** can also be used to improve segmentation quality. Special care must be taken because (i) some augmentation is symmetric and must be applied in pairs like rotation, and (ii) some augmentation is asymmetric like brightness.\n",
    "3. We have covered here *semantic* segmentation. What could we have done differently for *instance* segmentation?"
   ]
  },
  {
   "cell_type": "code",
   "execution_count": null,
   "metadata": {
    "id": "NRoaoCB8p9xy"
   },
   "outputs": [],
   "source": []
  }
 ],
 "metadata": {
  "accelerator": "GPU",
  "colab": {
   "name": "Exercise_2.ipynb",
   "provenance": []
  },
  "kernelspec": {
   "display_name": "Python 3 (ipykernel)",
   "language": "python",
   "name": "python3"
  },
  "language_info": {
   "codemirror_mode": {
    "name": "ipython",
    "version": 3
   },
   "file_extension": ".py",
   "mimetype": "text/x-python",
   "name": "python",
   "nbconvert_exporter": "python",
   "pygments_lexer": "ipython3",
   "version": "3.10.13"
  }
 },
 "nbformat": 4,
 "nbformat_minor": 1
}
